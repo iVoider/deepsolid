{
  "cells": [
    {
      "cell_type": "code",
      "execution_count": null,
      "metadata": {
        "colab": {
          "base_uri": "https://localhost:8080/"
        },
        "id": "vzG7kE8QOk3q",
        "outputId": "15fa799c-b698-4007-c9e5-e0ba3bcc2639"
      },
      "outputs": [
        {
          "name": "stdout",
          "output_type": "stream",
          "text": [
            "Cloning into 'evm2llvm'...\n",
            "remote: Enumerating objects: 14, done.\u001b[K\n",
            "remote: Total 14 (delta 0), reused 0 (delta 0), pack-reused 14\u001b[K\n",
            "Unpacking objects: 100% (14/14), 2.07 KiB | 530.00 KiB/s, done.\n"
          ]
        }
      ],
      "source": [
        "!git clone https://github.com/cd1m0/evm2llvm.git"
      ]
    },
    {
      "cell_type": "code",
      "execution_count": null,
      "metadata": {
        "colab": {
          "base_uri": "https://localhost:8080/"
        },
        "id": "JUjsgD--UFHJ",
        "outputId": "d3b48a43-bbee-4a07-f096-ee140917bbd1"
      },
      "outputs": [
        {
          "name": "stdout",
          "output_type": "stream",
          "text": [
            "--2023-01-23 11:21:22--  http://archive.ubuntu.com/ubuntu/pool/main/libf/libffi/libffi6_3.2.1-8_amd64.deb\n",
            "Resolving archive.ubuntu.com (archive.ubuntu.com)... 91.189.91.39, 185.125.190.39, 185.125.190.36, ...\n",
            "Connecting to archive.ubuntu.com (archive.ubuntu.com)|91.189.91.39|:80... connected.\n",
            "HTTP request sent, awaiting response... 200 OK\n",
            "Length: 17948 (18K) [application/x-debian-package]\n",
            "Saving to: ‘libffi6_3.2.1-8_amd64.deb’\n",
            "\n",
            "libffi6_3.2.1-8_amd 100%[===================>]  17.53K  --.-KB/s    in 0.04s   \n",
            "\n",
            "2023-01-23 11:21:22 (426 KB/s) - ‘libffi6_3.2.1-8_amd64.deb’ saved [17948/17948]\n",
            "\n"
          ]
        }
      ],
      "source": [
        "!wget \"http://archive.ubuntu.com/ubuntu/pool/main/libf/libffi/libffi6_3.2.1-8_amd64.deb\"\n",
        "!sudo dpkg -i libffi6_3.2.1-8_amd64.deb"
      ]
    },
    {
      "cell_type": "code",
      "execution_count": null,
      "metadata": {
        "id": "ajmFtAE9WYfa"
      },
      "outputs": [],
      "source": [
        "!wget \"http://archive.ubuntu.com/ubuntu/pool/universe/l/llvm-toolchain-5.0/libllvm5.0_5.0.1-4_amd64.deb\"\n",
        "!sudo dpkg -i libllvm5.0_5.0.1-4_amd64.deb"
      ]
    },
    {
      "cell_type": "code",
      "execution_count": null,
      "metadata": {
        "id": "onLOksApXfGT"
      },
      "outputs": [],
      "source": [
        "!sudo apt install apt-file\n",
        "!sudo apt-file update\n",
        "!apt-file search llvm-objdump"
      ]
    },
    {
      "cell_type": "code",
      "execution_count": null,
      "metadata": {
        "id": "WvwRKBCIYTMa"
      },
      "outputs": [],
      "source": [
        "!printf \"deb http://apt.llvm.org/xenial/ llvm-toolchain-xenial-5.0 main\" |sudo tee /etc/apt/sources.list.d/llvm-toolchain-xenial-5.0.list\n",
        "!wget -O - https://apt.llvm.org/llvm-snapshot.gpg.key |sudo apt-key add -\n",
        "!sudo apt update\n",
        "!sudo apt install -y llvm-5.0 llvm-5.0-dev llvm-5.0-tools"
      ]
    },
    {
      "cell_type": "code",
      "execution_count": null,
      "metadata": {
        "id": "5JP15K1fwic6"
      },
      "outputs": [],
      "source": [
        "CC=g++\n",
        "CFLAGS=-g -I./evmjit/libevmjit -I./evmjit/include -I./evmjit/evmc/include -I/content/evm2llvm/evmjit/include -I/content/evm2llvm/evmjit/deps/include\n",
        "LDFLAGS=-L./evmjit/build/libevmjit/ -levmjit-standalone-thin -lpthread -I/content/evm2llvm/evmjit/include -I/content/evm2llvm/evmjit/deps/include\n",
        "\n",
        "%.o:\t%.cc\n",
        "\t$(CC) -c -o $@ $< $(CFLAGS)\n",
        "\n",
        "evmjit/build/libevmjit/libevmjit-standalone-thin.a:\n",
        "\t[ -d evmjit/build ] || mkdir evmjit/build\n",
        "\tcd evmjit/build && cmake ..\n",
        "\tcd evmjit/build && cmake --build . --config RelWithDebInfo\n",
        "\n",
        "\n",
        "libevmjit:\tevmjit/build/libevmjit/libevmjit-standalone-thin.a\n",
        "\n",
        "lift:\tlift.o libevmjit\n",
        "\t$(CC) -o $@ lift.o $(LDFLAGS)\n",
        "\n",
        "all:\tlift\n",
        "\n",
        "clean:\n",
        "\trm -f lift *.o"
      ]
    },
    {
      "cell_type": "code",
      "execution_count": null,
      "metadata": {
        "id": "HnPh9QVJV_rE"
      },
      "outputs": [],
      "source": [
        "!/usr/lib/llvm-5.0/bin/opt -O3 -S /content/test.ll -o O3.ll"
      ]
    },
    {
      "cell_type": "code",
      "execution_count": null,
      "metadata": {
        "id": "AoPFsNPAwpeR"
      },
      "outputs": [],
      "source": [
        "!cd evm2llvm && git submodule set-url /content/evm2llvm/evmjit https://github.com/ethereum/evmjit.git"
      ]
    },
    {
      "cell_type": "code",
      "execution_count": null,
      "metadata": {
        "id": "9M2Zi-fjO0zA"
      },
      "outputs": [],
      "source": [
        "!cd evm2llvm && git submodule update --remote --merge && git submodule update --init --recursive"
      ]
    },
    {
      "cell_type": "code",
      "execution_count": null,
      "metadata": {
        "id": "pdS1IrtRO2ba"
      },
      "outputs": [],
      "source": [
        "!cd evm2llvm && make"
      ]
    },
    {
      "cell_type": "code",
      "execution_count": null,
      "metadata": {
        "id": "aQhbyMvQbWij"
      },
      "outputs": [],
      "source": [
        "!cd evm2llvm && make all"
      ]
    },
    {
      "cell_type": "code",
      "execution_count": null,
      "metadata": {
        "id": "cb-21UkUfgZX"
      },
      "outputs": [],
      "source": [
        "!/content/evm2llvm/lift /content/test.bin > test.ll"
      ]
    },
    {
      "cell_type": "code",
      "execution_count": null,
      "metadata": {
        "id": "MHyUYcTumUbe"
      },
      "outputs": [],
      "source": [
        "!git clone https://github.com/ethereum/aleth.git"
      ]
    },
    {
      "cell_type": "code",
      "execution_count": null,
      "metadata": {
        "colab": {
          "base_uri": "https://localhost:8080/"
        },
        "id": "J2NeonGSanXa",
        "outputId": "1265aaa6-b467-4dcd-a2d8-26b2f15da189"
      },
      "outputs": [
        {
          "name": "stdout",
          "output_type": "stream",
          "text": [
            "HEAD is now at 168093d0e Improve gitignore of jetbrains stuff\n",
            "Submodule path 'cmake/cable': checked out 'd4de52118b0947e22a2bc93ba9be148da82fc6c5'\n",
            "Submodule path 'evmc': checked out '354ba6f540655649e081fb455e21998186bf5576'\n",
            "Submodule path 'test/jsontests': checked out 'a69eb762fc5665814ac21cf091eff3bd0bf4ef27'\n"
          ]
        }
      ],
      "source": [
        "!cd aleth && git fetch origin && git reset --hard 168093d0eca9f364852f2c235cfe7300f5e8f4f4 && git submodule update --init"
      ]
    },
    {
      "cell_type": "code",
      "execution_count": null,
      "metadata": {
        "id": "b8zTPtRkvRnW"
      },
      "outputs": [],
      "source": [
        "!sudo apt-get install libleveldb-dev"
      ]
    },
    {
      "cell_type": "code",
      "execution_count": null,
      "metadata": {
        "id": "tqlI2fAvZODr"
      },
      "outputs": [],
      "source": [
        "# cryptopp has very bad CMakeLists.txt config.\n",
        "# We have to enforce \"cross compiling mode\" there by setting CMAKE_SYSTEM_VERSION=NO\n",
        "# to any \"false\" value.\n",
        "hunter_config(cryptopp VERSION ${HUNTER_cryptopp_VERSION} CMAKE_ARGS CMAKE_SYSTEM_VERSION=NO)\n",
        "\n",
        "hunter_config(\n",
        "    libjson-rpc-cpp\n",
        "    VERSION ${HUNTER_libjson-rpc-cpp_VERSION}\n",
        "    CMAKE_ARGS\n",
        "    UNIX_DOMAIN_SOCKET_SERVER=NO\n",
        "    UNIX_DOMAIN_SOCKET_CLIENT=NO\n",
        "    FILE_DESCRIPTOR_SERVER=NO\n",
        "    FILE_DESCRIPTOR_CLIENT=NO\n",
        "    TCP_SOCKET_SERVER=NO\n",
        "    TCP_SOCKET_CLIENT=NO\n",
        "    HTTP_SERVER=NO\n",
        "    HTTP_CLIENT=NO\n",
        ")\n",
        "\n",
        "hunter_config(\n",
        "    Boost\n",
        "    URL \"https://boostorg.jfrog.io/artifactory/main/release/1.67.0/source/boost_1_67_0.tar.gz\"\n",
        "    SHA1 77e73c9fd7bf85b14067767b9e8fdc39b49ee0f2\n",
        ")\n",
        "\n",
        "hunter_config(ethash VERSION 0.4.0\n",
        "    URL https://github.com/chfast/ethash/archive/v0.4.0.tar.gz\n",
        "    SHA1 fd92ffadff2931877a3b68685dd8c53f0bdec539\n",
        ")"
      ]
    },
    {
      "cell_type": "code",
      "execution_count": null,
      "metadata": {
        "id": "SUBtXHLOkTxR"
      },
      "outputs": [],
      "source": [
        "!rm -rf /root/.hunter/"
      ]
    },
    {
      "cell_type": "code",
      "execution_count": null,
      "metadata": {
        "id": "D-2kzRW5wBp4"
      },
      "outputs": [],
      "source": [
        "!cd aleth && cd build && CXXFLAGS=\"-Wno-error=deprecated-copy\" cmake -DEVMJIT=on -DCMAKE_CXX_FLAGS=\"-Wno-error=deprecated-copy\" .. && cmake --build ."
      ]
    },
    {
      "cell_type": "code",
      "execution_count": null,
      "metadata": {
        "id": "e0R51S27vKGB"
      },
      "outputs": [],
      "source": [
        "!sudo rm -rf /root/.hunter/_Base/Download/crc32c"
      ]
    },
    {
      "cell_type": "code",
      "execution_count": null,
      "metadata": {
        "colab": {
          "base_uri": "https://localhost:8080/"
        },
        "id": "WZ4YIrrywEUe",
        "outputId": "b2dc79d1-ca00-4f45-a5a6-120b06cf241c"
      },
      "outputs": [
        {
          "name": "stdout",
          "output_type": "stream",
          "text": [
            "--2023-01-23 17:50:46--  https://github.com/hunter-packages/crc32c/archive/refs/tags/hunter-1.0.5.tar.gz\n",
            "Resolving github.com (github.com)... 140.82.112.3\n",
            "Connecting to github.com (github.com)|140.82.112.3|:443... connected.\n",
            "HTTP request sent, awaiting response... 302 Found\n",
            "Location: https://codeload.github.com/hunter-packages/crc32c/tar.gz/refs/tags/hunter-1.0.5 [following]\n",
            "--2023-01-23 17:50:46--  https://codeload.github.com/hunter-packages/crc32c/tar.gz/refs/tags/hunter-1.0.5\n",
            "Resolving codeload.github.com (codeload.github.com)... 140.82.114.9\n",
            "Connecting to codeload.github.com (codeload.github.com)|140.82.114.9|:443... connected.\n",
            "HTTP request sent, awaiting response... 200 OK\n",
            "Length: unspecified [application/x-gzip]\n",
            "Saving to: ‘/root/.hunter/_Base/Download/crc32c/1.0.5/dc7fa8c/hunter-1.0.5.tar.gz’\n",
            "\n",
            "/root/.hunter/_Base     [ <=>                ]  27.91K  --.-KB/s    in 0.02s   \n",
            "\n",
            "2023-01-23 17:50:47 (1.10 MB/s) - ‘/root/.hunter/_Base/Download/crc32c/1.0.5/dc7fa8c/hunter-1.0.5.tar.gz’ saved [28581]\n",
            "\n"
          ]
        }
      ],
      "source": [
        "!wget \"https://github.com/hunter-packages/crc32c/archive/refs/tags/hunter-1.0.5.tar.gz\" -O /root/.hunter/_Base/Download/crc32c/1.0.5/dc7fa8c/hunter-1.0.5.tar.gz"
      ]
    }
  ],
  "metadata": {
    "colab": {
      "provenance": []
    },
    "kernelspec": {
      "display_name": "Python 3",
      "name": "python3"
    },
    "language_info": {
      "name": "python"
    }
  },
  "nbformat": 4,
  "nbformat_minor": 0
}